{
 "cells": [
  {
   "cell_type": "markdown",
   "metadata": {},
   "source": [
    "## Exemplo de aplicação: compressão de imagens utilizando decomposição em valores singulares (SVD)"
   ]
  },
  {
   "cell_type": "markdown",
   "metadata": {},
   "source": [
    "Este arquivo .ipynb deve ser utilizado para realizar a Parte II da atividade sobre autovalores e autovetores da disciplina de Cálculo Avançado. O objetivo aqui consiste em utilizar SVD - uma técnica que se baseia na identificação dos autovalores e autovetores de uma matriz- para comprimir imagens. Mais informações sobre SVD podem ser conferidas no pdf fornecido junto com este arquivo."
   ]
  },
  {
   "cell_type": "code",
   "execution_count": null,
   "metadata": {},
   "outputs": [],
   "source": [
    "#Importação das bibliotecas de interesse:\n",
    "from matplotlib.image import imread\n",
    "import matplotlib.pyplot as plt\n",
    "import numpy as np\n",
    "import math\n",
    "import os\n",
    "from PIL import Image"
   ]
  },
  {
   "cell_type": "code",
   "execution_count": null,
   "metadata": {},
   "outputs": [],
   "source": [
    "# Vamos especificar o nome do arquivo cuja imagem iremos ler, bem como o formato utilizado (no caso, jpg) e o local onde o arquivo está salvo (modifique de acordo com\n",
    "# o local onde você vá salvar o arquivo na sua máquina). \n",
    "\n",
    "nome_do_arquivo = '' #Você deve alterar o nome conforme o último algarismo do seu RA.\n",
    "formato = '.jpg'\n",
    "local = \"\" #Obs.: barras invertidas (\\) devem ser substituídas por barras (/) ao especificar o local."
   ]
  },
  {
   "cell_type": "markdown",
   "metadata": {},
   "source": [
    "# Representação matricial da imagem selecionada"
   ]
  },
  {
   "cell_type": "markdown",
   "metadata": {},
   "source": [
    "Usando o módulo matplotlib.image, vamos ler o arquivo .jpg, e representá-la matricialmente:"
   ]
  },
  {
   "cell_type": "code",
   "execution_count": null,
   "metadata": {},
   "outputs": [],
   "source": [
    "# Cada célula da matriz corresponde a um pixel da imagem, em escala de cinza (preto corresponde ao valor 0, branco corresponde\n",
    "# ao valor de 255). A seguir, estamos imprimindo a matriz:\n",
    "X = imread(local+nome_do_arquivo+formato)\n",
    "print(\"X = \", np.matrix(X))"
   ]
  },
  {
   "cell_type": "markdown",
   "metadata": {},
   "source": [
    "Vamos visualizar aqui a imagem sendo carregada:"
   ]
  },
  {
   "cell_type": "code",
   "execution_count": null,
   "metadata": {},
   "outputs": [],
   "source": [
    "plt.rcParams['figure.figsize'] = [16, 8]\n",
    "plt.figure()\n",
    "img = plt.imshow(X)\n",
    "img.set_cmap('gray')\n",
    "plt.axis('off')\n",
    "plt.show()"
   ]
  },
  {
   "cell_type": "markdown",
   "metadata": {},
   "source": [
    "## Decomposição em Valores Singulares:"
   ]
  },
  {
   "cell_type": "markdown",
   "metadata": {},
   "source": [
    "Vamos agora calcular a decomposição da matriz X em valores singulares (SVD). As matrizes U, S e V correspondem às matrizes de mesmo nome explicadas nas instruções referentes a esta atividade."
   ]
  },
  {
   "cell_type": "code",
   "execution_count": null,
   "metadata": {},
   "outputs": [],
   "source": [
    "U, S, V = np.linalg.svd(X,full_matrices=False)\n",
    "S = np.diag(S)"
   ]
  },
  {
   "cell_type": "markdown",
   "metadata": {},
   "source": [
    "Note que a matriz S é diagonal (ou seja, todos os elementos são iguais a zero, exceto aqueles na diagonal principal):"
   ]
  },
  {
   "cell_type": "code",
   "execution_count": null,
   "metadata": {},
   "outputs": [],
   "source": [
    "print(np.matrix(S))"
   ]
  },
  {
   "cell_type": "markdown",
   "metadata": {},
   "source": [
    "Vamos ver o número total de valores singulares em S:"
   ]
  },
  {
   "cell_type": "code",
   "execution_count": null,
   "metadata": {},
   "outputs": [],
   "source": [
    "numero_total_de_valores_singulares = len(S)"
   ]
  },
  {
   "cell_type": "markdown",
   "metadata": {},
   "source": [
    "A diagonal principal de S é dada por:"
   ]
  },
  {
   "cell_type": "code",
   "execution_count": null,
   "metadata": {},
   "outputs": [],
   "source": [
    "print(np.diag(S))"
   ]
  },
  {
   "cell_type": "markdown",
   "metadata": {},
   "source": [
    "Note que os valores singulares estão ordenados do maior para o menor (o método linalg.svd já realiza essa ordenação). Vamos plotar em um gráfico os valores singulares associados à matriz X (note que o eixo y está em escala logarítmica)"
   ]
  },
  {
   "cell_type": "code",
   "execution_count": null,
   "metadata": {},
   "outputs": [],
   "source": [
    "plt.figure(1)\n",
    "plt.semilogy(np.diag(S))\n",
    "plt.title('Valores Singulares')\n",
    "plt.grid()\n",
    "plt.show()\n",
    "plt.savefig(local+'valores_singulares.jpg', format='jpg')"
   ]
  },
  {
   "cell_type": "markdown",
   "metadata": {},
   "source": [
    "Vamos imprimir na tela o maior e o menor valor singular contidos em S:"
   ]
  },
  {
   "cell_type": "code",
   "execution_count": null,
   "metadata": {},
   "outputs": [],
   "source": [
    "print(\"O maior valor singular em S é: \",max(np.diag(S))) \n",
    "print(\"O menor valor singular em S é: \",min(np.diag(S))) "
   ]
  },
  {
   "cell_type": "markdown",
   "metadata": {},
   "source": [
    "Note que a diferença entre o maior e o menor valor singular é muito significativa. Quanto maior for um valor singular, mais importante é o autovetor correspondente a ele para a formação da imagem. Isto significa que podemos nos livrar dos autovetores associados aos menores valores singulares, sem que isso represente uma perda muito substancial na qualidade. Para verificar isso graficamente, vamos plotar a porcentagem que os i maiores valores singulares (i indo de 0 até o número de elementos em S), quando somados, representam em relação ao total de valores singulares:"
   ]
  },
  {
   "cell_type": "code",
   "execution_count": null,
   "metadata": {},
   "outputs": [],
   "source": [
    "eixo_x = 100*np.arange(1,len(np.diag(S))+1)/len(np.diag(S))\n",
    "plt.figure(2)\n",
    "plt.plot(eixo_x,100*np.cumsum(np.diag(S))/np.sum(np.diag(S)))\n",
    "plt.title('Soma Acumulada (%)')\n",
    "plt.xlabel('Porcentagem de Valores Singulares Mantidos')\n",
    "plt.grid()\n",
    "plt.show()\n",
    "plt.savefig(local+'soma_acumulada.jpg', format='jpg')"
   ]
  },
  {
   "cell_type": "markdown",
   "metadata": {},
   "source": [
    "Note que, dependendo da imagem, um único valor singular (aquele com índice 0, ou seja, na primeira linha e primeira coluna de S) pode representar, sozinho, 20% da soma de todos os valores singulares da imagem juntos (ou até mais)!"
   ]
  },
  {
   "cell_type": "markdown",
   "metadata": {},
   "source": [
    "# Compressão"
   ]
  },
  {
   "cell_type": "markdown",
   "metadata": {},
   "source": [
    "Utilizando o estudo realizado na seção anterior, vamos agora efetivamente comprimir a imagem utilizando SVD. A ideia é descartar os menores valores singulares, junto com os autovetores correspondentes, de modo a armazenar menos informação."
   ]
  },
  {
   "cell_type": "markdown",
   "metadata": {},
   "source": [
    "Para averiguar o efeito da compressão de forma gradual, vamos manter uma certa porcentagem de valores singulares e descartar o restante. Iremos começar com uma porcentagem de 90% (ou seja, estamos mantendo 90% dos autovetores e valores singulares da imagem original e descartando 10%), e ir reduzindo gradualmente até chegar em uma porcentagem de 5 % (ou seja, estamos descartando 95% dos autovetores e valores singulares da imagem original). Para isso, vamos criar um array de porcentagens, arranjadas em ordem decrescente:"
   ]
  },
  {
   "cell_type": "code",
   "execution_count": null,
   "metadata": {},
   "outputs": [],
   "source": [
    "porcentagem_minima = 5\n",
    "porcentagem_maxima = 90\n",
    "passo = -1\n",
    "porcentagens = np.arange(porcentagem_maxima,porcentagem_minima-1,passo)"
   ]
  },
  {
   "cell_type": "markdown",
   "metadata": {},
   "source": [
    "Imprimindo na tela as porcentagens consideradas:"
   ]
  },
  {
   "cell_type": "code",
   "execution_count": null,
   "metadata": {},
   "outputs": [],
   "source": [
    "print(\"Porcentagens consideradas: \\n\", porcentagens)"
   ]
  },
  {
   "cell_type": "markdown",
   "metadata": {},
   "source": [
    "Agora, iremos realizar a compressão propriamente dita considerando cada porcentagem contida no vetor \"porcentagens\". Além disso, iremos salvar a imagem resultante no mesmo local em que a imagem original foi salva. Cada imagem comprimida será salva com o mesmo nome da imagem original, acrescido do sufixo \"_comprimida_p\", em que p é a porcentagem de valores singulares mantidos (com um zero à esquerda, se necessário)."
   ]
  },
  {
   "cell_type": "code",
   "execution_count": null,
   "metadata": {},
   "outputs": [],
   "source": [
    "#Para cada elemento p do vetor porcentagens:\n",
    "for p in porcentagens:\n",
    "    # Vamos calcular o número r de valores singulares a serem considerados:\n",
    "    r = math.ceil(numero_total_de_valores_singulares*p/100)\n",
    "    # Vamos agora, reconstruir uma aproximação para X. Nós vamos selecionar apenas as primeiras r colunas de U e as primeiras \n",
    "    # r linhas de V (bem como as linhas e colunas correspondentes de S).\n",
    "    X_aproximado = U[:,:r] @ S[0:r,:r] @ V[:r,:]\n",
    "    # Em seguida, vamos converter todos os elementos da matriz X_aproximado para inteiros:\n",
    "    X_aproximado = X_aproximado.astype(int)\n",
    "    # O código a seguir servirá para imprimir na tela a imagem correspondente à matriz X_aproximado:\n",
    "    print(\"Porcentagem de valores singulares mantidos: \",p,\"% (porcentagem de valores singulares descartados: \",100-p,\"%).\")\n",
    "    plt.rcParams['figure.figsize'] = [16, 8]\n",
    "    plt.figure()\n",
    "    img = plt.imshow(X_aproximado)\n",
    "    img.set_cmap('gray')\n",
    "    plt.axis('off')\n",
    "    plt.show()\n",
    "    # Especificando o nome a ser utilizado para salvar a imagem correspondente à matriz X_aproximado:\n",
    "    nome_para_salvar = local + nome_do_arquivo+\"_comprimida_\"+f'{p:02d}'+formato\n",
    "    # Gerando a imagem proprimante dita e salvando-a:\n",
    "    im = Image.fromarray(X_aproximado).convert('L')\n",
    "    im.save(nome_para_salvar)"
   ]
  },
  {
   "cell_type": "markdown",
   "metadata": {},
   "source": [
    "Uma vez executado todo o código até aqui, responda às perguntas da Parte II da atividade."
   ]
  },
  {
   "cell_type": "code",
   "execution_count": null,
   "metadata": {},
   "outputs": [],
   "source": []
  }
 ],
 "metadata": {
  "kernelspec": {
   "display_name": "Python 3",
   "language": "python",
   "name": "python3"
  },
  "language_info": {
   "codemirror_mode": {
    "name": "ipython",
    "version": 3
   },
   "file_extension": ".py",
   "mimetype": "text/x-python",
   "name": "python",
   "nbconvert_exporter": "python",
   "pygments_lexer": "ipython3",
   "version": "3.7.6"
  }
 },
 "nbformat": 4,
 "nbformat_minor": 4
}
